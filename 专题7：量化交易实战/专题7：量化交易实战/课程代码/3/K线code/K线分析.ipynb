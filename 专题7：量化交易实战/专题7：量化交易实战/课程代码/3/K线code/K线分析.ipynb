{
 "cells": [
  {
   "cell_type": "markdown",
   "metadata": {},
   "source": [
    "#  使用Python绘制K线图"
   ]
  },
  {
   "cell_type": "markdown",
   "metadata": {},
   "source": [
    "导入相关依赖包"
   ]
  },
  {
   "cell_type": "code",
   "execution_count": 1,
   "metadata": {},
   "outputs": [
    {
     "name": "stderr",
     "output_type": "stream",
     "text": [
      "C:\\Anaconda3\\lib\\site-packages\\mpl_finance.py:22: DeprecationWarning: \n",
      "\n",
      "  =================================================================\n",
      "\n",
      "   WARNING: `mpl_finance` is deprecated:\n",
      "\n",
      "    Please use `mplfinance` instead (no hyphen, no underscore).\n",
      "\n",
      "    To install: `pip install --upgrade mplfinance` \n",
      "\n",
      "   For more information, see: https://pypi.org/project/mplfinance/\n",
      "\n",
      "  =================================================================\n",
      "\n",
      "  category=DeprecationWarning)\n"
     ]
    }
   ],
   "source": [
    "import pandas as pd\n",
    "import matplotlib.pyplot as plt\n",
    "from candle import candlestick_ohlc"
   ]
  },
  {
   "cell_type": "markdown",
   "metadata": {},
   "source": [
    "读取csv数据"
   ]
  },
  {
   "cell_type": "code",
   "execution_count": 2,
   "metadata": {},
   "outputs": [
    {
     "data": {
      "text/html": [
       "<div>\n",
       "<style scoped>\n",
       "    .dataframe tbody tr th:only-of-type {\n",
       "        vertical-align: middle;\n",
       "    }\n",
       "\n",
       "    .dataframe tbody tr th {\n",
       "        vertical-align: top;\n",
       "    }\n",
       "\n",
       "    .dataframe thead th {\n",
       "        text-align: right;\n",
       "    }\n",
       "</style>\n",
       "<table border=\"1\" class=\"dataframe\">\n",
       "  <thead>\n",
       "    <tr style=\"text-align: right;\">\n",
       "      <th></th>\n",
       "      <th>Unnamed: 0</th>\n",
       "      <th>Date</th>\n",
       "      <th>Open</th>\n",
       "      <th>High</th>\n",
       "      <th>Low</th>\n",
       "      <th>Close</th>\n",
       "      <th>Volume</th>\n",
       "    </tr>\n",
       "  </thead>\n",
       "  <tbody>\n",
       "    <tr>\n",
       "      <th>0</th>\n",
       "      <td>1</td>\n",
       "      <td>2015-03-02</td>\n",
       "      <td>3332.720947</td>\n",
       "      <td>3336.760010</td>\n",
       "      <td>3298.668945</td>\n",
       "      <td>3336.284912</td>\n",
       "      <td>346400</td>\n",
       "    </tr>\n",
       "    <tr>\n",
       "      <th>1</th>\n",
       "      <td>2</td>\n",
       "      <td>2015-03-03</td>\n",
       "      <td>3317.695068</td>\n",
       "      <td>3317.695068</td>\n",
       "      <td>3260.428955</td>\n",
       "      <td>3263.052002</td>\n",
       "      <td>382000</td>\n",
       "    </tr>\n",
       "    <tr>\n",
       "      <th>2</th>\n",
       "      <td>3</td>\n",
       "      <td>2015-03-04</td>\n",
       "      <td>3264.181885</td>\n",
       "      <td>3286.587891</td>\n",
       "      <td>3250.483887</td>\n",
       "      <td>3279.532959</td>\n",
       "      <td>293600</td>\n",
       "    </tr>\n",
       "    <tr>\n",
       "      <th>3</th>\n",
       "      <td>4</td>\n",
       "      <td>2015-03-05</td>\n",
       "      <td>3264.084961</td>\n",
       "      <td>3266.637939</td>\n",
       "      <td>3221.666016</td>\n",
       "      <td>3248.476074</td>\n",
       "      <td>320700</td>\n",
       "    </tr>\n",
       "    <tr>\n",
       "      <th>4</th>\n",
       "      <td>5</td>\n",
       "      <td>2015-03-06</td>\n",
       "      <td>3248.035889</td>\n",
       "      <td>3266.933105</td>\n",
       "      <td>3234.532959</td>\n",
       "      <td>3241.187012</td>\n",
       "      <td>282900</td>\n",
       "    </tr>\n",
       "  </tbody>\n",
       "</table>\n",
       "</div>"
      ],
      "text/plain": [
       "   Unnamed: 0        Date         Open         High          Low        Close  \\\n",
       "0           1  2015-03-02  3332.720947  3336.760010  3298.668945  3336.284912   \n",
       "1           2  2015-03-03  3317.695068  3317.695068  3260.428955  3263.052002   \n",
       "2           3  2015-03-04  3264.181885  3286.587891  3250.483887  3279.532959   \n",
       "3           4  2015-03-05  3264.084961  3266.637939  3221.666016  3248.476074   \n",
       "4           5  2015-03-06  3248.035889  3266.933105  3234.532959  3241.187012   \n",
       "\n",
       "   Volume  \n",
       "0  346400  \n",
       "1  382000  \n",
       "2  293600  \n",
       "3  320700  \n",
       "4  282900  "
      ]
     },
     "execution_count": 2,
     "metadata": {},
     "output_type": "execute_result"
    }
   ],
   "source": [
    "ssec2015=pd.read_csv('ssec2015.csv')\n",
    "ssec2015.head()"
   ]
  },
  {
   "cell_type": "markdown",
   "metadata": {},
   "source": [
    "删除冗余数据（首列字段）"
   ]
  },
  {
   "cell_type": "code",
   "execution_count": 3,
   "metadata": {},
   "outputs": [
    {
     "data": {
      "text/html": [
       "<div>\n",
       "<style scoped>\n",
       "    .dataframe tbody tr th:only-of-type {\n",
       "        vertical-align: middle;\n",
       "    }\n",
       "\n",
       "    .dataframe tbody tr th {\n",
       "        vertical-align: top;\n",
       "    }\n",
       "\n",
       "    .dataframe thead th {\n",
       "        text-align: right;\n",
       "    }\n",
       "</style>\n",
       "<table border=\"1\" class=\"dataframe\">\n",
       "  <thead>\n",
       "    <tr style=\"text-align: right;\">\n",
       "      <th></th>\n",
       "      <th>Date</th>\n",
       "      <th>Open</th>\n",
       "      <th>High</th>\n",
       "      <th>Low</th>\n",
       "      <th>Close</th>\n",
       "      <th>Volume</th>\n",
       "    </tr>\n",
       "  </thead>\n",
       "  <tbody>\n",
       "    <tr>\n",
       "      <th>0</th>\n",
       "      <td>2015-03-02</td>\n",
       "      <td>3332.720947</td>\n",
       "      <td>3336.760010</td>\n",
       "      <td>3298.668945</td>\n",
       "      <td>3336.284912</td>\n",
       "      <td>346400</td>\n",
       "    </tr>\n",
       "    <tr>\n",
       "      <th>1</th>\n",
       "      <td>2015-03-03</td>\n",
       "      <td>3317.695068</td>\n",
       "      <td>3317.695068</td>\n",
       "      <td>3260.428955</td>\n",
       "      <td>3263.052002</td>\n",
       "      <td>382000</td>\n",
       "    </tr>\n",
       "    <tr>\n",
       "      <th>2</th>\n",
       "      <td>2015-03-04</td>\n",
       "      <td>3264.181885</td>\n",
       "      <td>3286.587891</td>\n",
       "      <td>3250.483887</td>\n",
       "      <td>3279.532959</td>\n",
       "      <td>293600</td>\n",
       "    </tr>\n",
       "    <tr>\n",
       "      <th>3</th>\n",
       "      <td>2015-03-05</td>\n",
       "      <td>3264.084961</td>\n",
       "      <td>3266.637939</td>\n",
       "      <td>3221.666016</td>\n",
       "      <td>3248.476074</td>\n",
       "      <td>320700</td>\n",
       "    </tr>\n",
       "    <tr>\n",
       "      <th>4</th>\n",
       "      <td>2015-03-06</td>\n",
       "      <td>3248.035889</td>\n",
       "      <td>3266.933105</td>\n",
       "      <td>3234.532959</td>\n",
       "      <td>3241.187012</td>\n",
       "      <td>282900</td>\n",
       "    </tr>\n",
       "    <tr>\n",
       "      <th>5</th>\n",
       "      <td>2015-03-09</td>\n",
       "      <td>3224.313965</td>\n",
       "      <td>3307.701904</td>\n",
       "      <td>3198.370117</td>\n",
       "      <td>3302.407959</td>\n",
       "      <td>321500</td>\n",
       "    </tr>\n",
       "    <tr>\n",
       "      <th>6</th>\n",
       "      <td>2015-03-10</td>\n",
       "      <td>3289.084961</td>\n",
       "      <td>3309.915039</td>\n",
       "      <td>3277.094971</td>\n",
       "      <td>3286.068115</td>\n",
       "      <td>285800</td>\n",
       "    </tr>\n",
       "    <tr>\n",
       "      <th>7</th>\n",
       "      <td>2015-03-11</td>\n",
       "      <td>3289.593994</td>\n",
       "      <td>3325.053955</td>\n",
       "      <td>3278.470947</td>\n",
       "      <td>3290.899902</td>\n",
       "      <td>283000</td>\n",
       "    </tr>\n",
       "    <tr>\n",
       "      <th>8</th>\n",
       "      <td>2015-03-12</td>\n",
       "      <td>3314.812988</td>\n",
       "      <td>3360.053955</td>\n",
       "      <td>3300.488037</td>\n",
       "      <td>3349.322998</td>\n",
       "      <td>357300</td>\n",
       "    </tr>\n",
       "    <tr>\n",
       "      <th>9</th>\n",
       "      <td>2015-03-13</td>\n",
       "      <td>3359.488037</td>\n",
       "      <td>3391.254883</td>\n",
       "      <td>3352.149902</td>\n",
       "      <td>3372.910889</td>\n",
       "      <td>328400</td>\n",
       "    </tr>\n",
       "    <tr>\n",
       "      <th>10</th>\n",
       "      <td>2015-03-16</td>\n",
       "      <td>3391.157959</td>\n",
       "      <td>3449.304932</td>\n",
       "      <td>3377.086914</td>\n",
       "      <td>3449.304932</td>\n",
       "      <td>399100</td>\n",
       "    </tr>\n",
       "    <tr>\n",
       "      <th>11</th>\n",
       "      <td>2015-03-17</td>\n",
       "      <td>3469.603027</td>\n",
       "      <td>3504.123047</td>\n",
       "      <td>3459.694092</td>\n",
       "      <td>3502.846924</td>\n",
       "      <td>520900</td>\n",
       "    </tr>\n",
       "    <tr>\n",
       "      <th>12</th>\n",
       "      <td>2015-03-18</td>\n",
       "      <td>3510.500977</td>\n",
       "      <td>3577.662109</td>\n",
       "      <td>3503.853027</td>\n",
       "      <td>3577.301025</td>\n",
       "      <td>545200</td>\n",
       "    </tr>\n",
       "    <tr>\n",
       "      <th>13</th>\n",
       "      <td>2015-03-19</td>\n",
       "      <td>3576.019043</td>\n",
       "      <td>3600.684082</td>\n",
       "      <td>3546.843994</td>\n",
       "      <td>3582.270996</td>\n",
       "      <td>537300</td>\n",
       "    </tr>\n",
       "    <tr>\n",
       "      <th>14</th>\n",
       "      <td>2015-03-20</td>\n",
       "      <td>3587.083984</td>\n",
       "      <td>3632.337891</td>\n",
       "      <td>3569.379883</td>\n",
       "      <td>3617.318115</td>\n",
       "      <td>516700</td>\n",
       "    </tr>\n",
       "    <tr>\n",
       "      <th>15</th>\n",
       "      <td>2015-03-23</td>\n",
       "      <td>3640.104004</td>\n",
       "      <td>3688.249023</td>\n",
       "      <td>3635.485107</td>\n",
       "      <td>3687.728027</td>\n",
       "      <td>536100</td>\n",
       "    </tr>\n",
       "    <tr>\n",
       "      <th>16</th>\n",
       "      <td>2015-03-24</td>\n",
       "      <td>3692.569092</td>\n",
       "      <td>3715.873047</td>\n",
       "      <td>3600.697998</td>\n",
       "      <td>3691.409912</td>\n",
       "      <td>639600</td>\n",
       "    </tr>\n",
       "    <tr>\n",
       "      <th>17</th>\n",
       "      <td>2015-03-25</td>\n",
       "      <td>3680.952881</td>\n",
       "      <td>3693.150879</td>\n",
       "      <td>3634.559082</td>\n",
       "      <td>3660.727051</td>\n",
       "      <td>521900</td>\n",
       "    </tr>\n",
       "    <tr>\n",
       "      <th>18</th>\n",
       "      <td>2015-03-26</td>\n",
       "      <td>3641.941895</td>\n",
       "      <td>3707.318115</td>\n",
       "      <td>3615.010986</td>\n",
       "      <td>3682.094971</td>\n",
       "      <td>488600</td>\n",
       "    </tr>\n",
       "    <tr>\n",
       "      <th>19</th>\n",
       "      <td>2015-03-27</td>\n",
       "      <td>3686.134033</td>\n",
       "      <td>3710.477051</td>\n",
       "      <td>3656.831055</td>\n",
       "      <td>3691.095947</td>\n",
       "      <td>408900</td>\n",
       "    </tr>\n",
       "    <tr>\n",
       "      <th>20</th>\n",
       "      <td>2015-03-30</td>\n",
       "      <td>3710.612061</td>\n",
       "      <td>3795.935059</td>\n",
       "      <td>3710.612061</td>\n",
       "      <td>3786.568115</td>\n",
       "      <td>564700</td>\n",
       "    </tr>\n",
       "    <tr>\n",
       "      <th>21</th>\n",
       "      <td>2015-03-31</td>\n",
       "      <td>3822.987061</td>\n",
       "      <td>3835.566895</td>\n",
       "      <td>3737.042969</td>\n",
       "      <td>3747.898926</td>\n",
       "      <td>561700</td>\n",
       "    </tr>\n",
       "  </tbody>\n",
       "</table>\n",
       "</div>"
      ],
      "text/plain": [
       "          Date         Open         High          Low        Close  Volume\n",
       "0   2015-03-02  3332.720947  3336.760010  3298.668945  3336.284912  346400\n",
       "1   2015-03-03  3317.695068  3317.695068  3260.428955  3263.052002  382000\n",
       "2   2015-03-04  3264.181885  3286.587891  3250.483887  3279.532959  293600\n",
       "3   2015-03-05  3264.084961  3266.637939  3221.666016  3248.476074  320700\n",
       "4   2015-03-06  3248.035889  3266.933105  3234.532959  3241.187012  282900\n",
       "5   2015-03-09  3224.313965  3307.701904  3198.370117  3302.407959  321500\n",
       "6   2015-03-10  3289.084961  3309.915039  3277.094971  3286.068115  285800\n",
       "7   2015-03-11  3289.593994  3325.053955  3278.470947  3290.899902  283000\n",
       "8   2015-03-12  3314.812988  3360.053955  3300.488037  3349.322998  357300\n",
       "9   2015-03-13  3359.488037  3391.254883  3352.149902  3372.910889  328400\n",
       "10  2015-03-16  3391.157959  3449.304932  3377.086914  3449.304932  399100\n",
       "11  2015-03-17  3469.603027  3504.123047  3459.694092  3502.846924  520900\n",
       "12  2015-03-18  3510.500977  3577.662109  3503.853027  3577.301025  545200\n",
       "13  2015-03-19  3576.019043  3600.684082  3546.843994  3582.270996  537300\n",
       "14  2015-03-20  3587.083984  3632.337891  3569.379883  3617.318115  516700\n",
       "15  2015-03-23  3640.104004  3688.249023  3635.485107  3687.728027  536100\n",
       "16  2015-03-24  3692.569092  3715.873047  3600.697998  3691.409912  639600\n",
       "17  2015-03-25  3680.952881  3693.150879  3634.559082  3660.727051  521900\n",
       "18  2015-03-26  3641.941895  3707.318115  3615.010986  3682.094971  488600\n",
       "19  2015-03-27  3686.134033  3710.477051  3656.831055  3691.095947  408900\n",
       "20  2015-03-30  3710.612061  3795.935059  3710.612061  3786.568115  564700\n",
       "21  2015-03-31  3822.987061  3835.566895  3737.042969  3747.898926  561700"
      ]
     },
     "execution_count": 3,
     "metadata": {},
     "output_type": "execute_result"
    }
   ],
   "source": [
    "ssec2015=ssec2015.iloc[:,1:]\n",
    "ssec2015"
   ]
  },
  {
   "cell_type": "code",
   "execution_count": 4,
   "metadata": {},
   "outputs": [
    {
     "data": {
      "text/html": [
       "<div>\n",
       "<style scoped>\n",
       "    .dataframe tbody tr th:only-of-type {\n",
       "        vertical-align: middle;\n",
       "    }\n",
       "\n",
       "    .dataframe tbody tr th {\n",
       "        vertical-align: top;\n",
       "    }\n",
       "\n",
       "    .dataframe thead th {\n",
       "        text-align: right;\n",
       "    }\n",
       "</style>\n",
       "<table border=\"1\" class=\"dataframe\">\n",
       "  <thead>\n",
       "    <tr style=\"text-align: right;\">\n",
       "      <th></th>\n",
       "      <th>Date</th>\n",
       "      <th>Open</th>\n",
       "      <th>High</th>\n",
       "      <th>Low</th>\n",
       "      <th>Close</th>\n",
       "      <th>Volume</th>\n",
       "    </tr>\n",
       "  </thead>\n",
       "  <tbody>\n",
       "    <tr>\n",
       "      <th>0</th>\n",
       "      <td>2015-03-02</td>\n",
       "      <td>3332.720947</td>\n",
       "      <td>3336.760010</td>\n",
       "      <td>3298.668945</td>\n",
       "      <td>3336.284912</td>\n",
       "      <td>346400</td>\n",
       "    </tr>\n",
       "    <tr>\n",
       "      <th>1</th>\n",
       "      <td>2015-03-03</td>\n",
       "      <td>3317.695068</td>\n",
       "      <td>3317.695068</td>\n",
       "      <td>3260.428955</td>\n",
       "      <td>3263.052002</td>\n",
       "      <td>382000</td>\n",
       "    </tr>\n",
       "    <tr>\n",
       "      <th>2</th>\n",
       "      <td>2015-03-04</td>\n",
       "      <td>3264.181885</td>\n",
       "      <td>3286.587891</td>\n",
       "      <td>3250.483887</td>\n",
       "      <td>3279.532959</td>\n",
       "      <td>293600</td>\n",
       "    </tr>\n",
       "  </tbody>\n",
       "</table>\n",
       "</div>"
      ],
      "text/plain": [
       "         Date         Open         High          Low        Close  Volume\n",
       "0  2015-03-02  3332.720947  3336.760010  3298.668945  3336.284912  346400\n",
       "1  2015-03-03  3317.695068  3317.695068  3260.428955  3263.052002  382000\n",
       "2  2015-03-04  3264.181885  3286.587891  3250.483887  3279.532959  293600"
      ]
     },
     "execution_count": 4,
     "metadata": {},
     "output_type": "execute_result"
    }
   ],
   "source": [
    "ssec2015.head(n=3)\n"
   ]
  },
  {
   "cell_type": "code",
   "execution_count": 5,
   "metadata": {},
   "outputs": [
    {
     "data": {
      "text/html": [
       "<div>\n",
       "<style scoped>\n",
       "    .dataframe tbody tr th:only-of-type {\n",
       "        vertical-align: middle;\n",
       "    }\n",
       "\n",
       "    .dataframe tbody tr th {\n",
       "        vertical-align: top;\n",
       "    }\n",
       "\n",
       "    .dataframe thead th {\n",
       "        text-align: right;\n",
       "    }\n",
       "</style>\n",
       "<table border=\"1\" class=\"dataframe\">\n",
       "  <thead>\n",
       "    <tr style=\"text-align: right;\">\n",
       "      <th></th>\n",
       "      <th>Date</th>\n",
       "      <th>Open</th>\n",
       "      <th>High</th>\n",
       "      <th>Low</th>\n",
       "      <th>Close</th>\n",
       "      <th>Volume</th>\n",
       "    </tr>\n",
       "  </thead>\n",
       "  <tbody>\n",
       "    <tr>\n",
       "      <th>19</th>\n",
       "      <td>2015-03-27</td>\n",
       "      <td>3686.134033</td>\n",
       "      <td>3710.477051</td>\n",
       "      <td>3656.831055</td>\n",
       "      <td>3691.095947</td>\n",
       "      <td>408900</td>\n",
       "    </tr>\n",
       "    <tr>\n",
       "      <th>20</th>\n",
       "      <td>2015-03-30</td>\n",
       "      <td>3710.612061</td>\n",
       "      <td>3795.935059</td>\n",
       "      <td>3710.612061</td>\n",
       "      <td>3786.568115</td>\n",
       "      <td>564700</td>\n",
       "    </tr>\n",
       "    <tr>\n",
       "      <th>21</th>\n",
       "      <td>2015-03-31</td>\n",
       "      <td>3822.987061</td>\n",
       "      <td>3835.566895</td>\n",
       "      <td>3737.042969</td>\n",
       "      <td>3747.898926</td>\n",
       "      <td>561700</td>\n",
       "    </tr>\n",
       "  </tbody>\n",
       "</table>\n",
       "</div>"
      ],
      "text/plain": [
       "          Date         Open         High          Low        Close  Volume\n",
       "19  2015-03-27  3686.134033  3710.477051  3656.831055  3691.095947  408900\n",
       "20  2015-03-30  3710.612061  3795.935059  3710.612061  3786.568115  564700\n",
       "21  2015-03-31  3822.987061  3835.566895  3737.042969  3747.898926  561700"
      ]
     },
     "execution_count": 5,
     "metadata": {},
     "output_type": "execute_result"
    }
   ],
   "source": [
    "ssec2015.iloc[-3:,:]\n"
   ]
  },
  {
   "cell_type": "markdown",
   "metadata": {},
   "source": [
    "获取开盘价等信息 绘制k线图数据"
   ]
  },
  {
   "cell_type": "code",
   "execution_count": 6,
   "metadata": {},
   "outputs": [],
   "source": [
    "from matplotlib.dates import DateFormatter, WeekdayLocator,\\\n",
    "    DayLocator, MONDAY,date2num\n",
    "from datetime import datetime"
   ]
  },
  {
   "cell_type": "code",
   "execution_count": 7,
   "metadata": {},
   "outputs": [],
   "source": [
    "ssec2015.Date=[date2num(datetime.strptime(date,\"%Y-%m-%d\"))\\\n",
    "               for date in ssec2015.Date]\n",
    "                  \n"
   ]
  },
  {
   "cell_type": "code",
   "execution_count": 8,
   "metadata": {},
   "outputs": [
    {
     "data": {
      "text/plain": [
       "pandas.core.frame.DataFrame"
      ]
     },
     "execution_count": 8,
     "metadata": {},
     "output_type": "execute_result"
    }
   ],
   "source": [
    "type(ssec2015)  "
   ]
  },
  {
   "cell_type": "code",
   "execution_count": 9,
   "metadata": {},
   "outputs": [
    {
     "data": {
      "text/html": [
       "<div>\n",
       "<style scoped>\n",
       "    .dataframe tbody tr th:only-of-type {\n",
       "        vertical-align: middle;\n",
       "    }\n",
       "\n",
       "    .dataframe tbody tr th {\n",
       "        vertical-align: top;\n",
       "    }\n",
       "\n",
       "    .dataframe thead th {\n",
       "        text-align: right;\n",
       "    }\n",
       "</style>\n",
       "<table border=\"1\" class=\"dataframe\">\n",
       "  <thead>\n",
       "    <tr style=\"text-align: right;\">\n",
       "      <th></th>\n",
       "      <th>Date</th>\n",
       "      <th>Open</th>\n",
       "      <th>High</th>\n",
       "      <th>Low</th>\n",
       "      <th>Close</th>\n",
       "      <th>Volume</th>\n",
       "    </tr>\n",
       "  </thead>\n",
       "  <tbody>\n",
       "    <tr>\n",
       "      <th>0</th>\n",
       "      <td>735659.0</td>\n",
       "      <td>3332.720947</td>\n",
       "      <td>3336.760010</td>\n",
       "      <td>3298.668945</td>\n",
       "      <td>3336.284912</td>\n",
       "      <td>346400</td>\n",
       "    </tr>\n",
       "    <tr>\n",
       "      <th>1</th>\n",
       "      <td>735660.0</td>\n",
       "      <td>3317.695068</td>\n",
       "      <td>3317.695068</td>\n",
       "      <td>3260.428955</td>\n",
       "      <td>3263.052002</td>\n",
       "      <td>382000</td>\n",
       "    </tr>\n",
       "    <tr>\n",
       "      <th>2</th>\n",
       "      <td>735661.0</td>\n",
       "      <td>3264.181885</td>\n",
       "      <td>3286.587891</td>\n",
       "      <td>3250.483887</td>\n",
       "      <td>3279.532959</td>\n",
       "      <td>293600</td>\n",
       "    </tr>\n",
       "    <tr>\n",
       "      <th>3</th>\n",
       "      <td>735662.0</td>\n",
       "      <td>3264.084961</td>\n",
       "      <td>3266.637939</td>\n",
       "      <td>3221.666016</td>\n",
       "      <td>3248.476074</td>\n",
       "      <td>320700</td>\n",
       "    </tr>\n",
       "    <tr>\n",
       "      <th>4</th>\n",
       "      <td>735663.0</td>\n",
       "      <td>3248.035889</td>\n",
       "      <td>3266.933105</td>\n",
       "      <td>3234.532959</td>\n",
       "      <td>3241.187012</td>\n",
       "      <td>282900</td>\n",
       "    </tr>\n",
       "  </tbody>\n",
       "</table>\n",
       "</div>"
      ],
      "text/plain": [
       "       Date         Open         High          Low        Close  Volume\n",
       "0  735659.0  3332.720947  3336.760010  3298.668945  3336.284912  346400\n",
       "1  735660.0  3317.695068  3317.695068  3260.428955  3263.052002  382000\n",
       "2  735661.0  3264.181885  3286.587891  3250.483887  3279.532959  293600\n",
       "3  735662.0  3264.084961  3266.637939  3221.666016  3248.476074  320700\n",
       "4  735663.0  3248.035889  3266.933105  3234.532959  3241.187012  282900"
      ]
     },
     "execution_count": 9,
     "metadata": {},
     "output_type": "execute_result"
    }
   ],
   "source": [
    "ssec2015.head()"
   ]
  },
  {
   "cell_type": "markdown",
   "metadata": {},
   "source": [
    "开始绘制K线图"
   ]
  },
  {
   "cell_type": "code",
   "execution_count": 10,
   "metadata": {},
   "outputs": [],
   "source": [
    "ssec15list=list()\n",
    "for i in range(len(ssec2015)):\n",
    "    ssec15list.append(ssec2015.iloc[i,:])"
   ]
  },
  {
   "cell_type": "code",
   "execution_count": 11,
   "metadata": {},
   "outputs": [
    {
     "data": {
      "image/png": "[encoded data removed]",
      "text/plain": [
       "<Figure size 1008x432 with 1 Axes>"
      ]
     },
     "metadata": {
      "needs_background": "light"
     },
     "output_type": "display_data"
    }
   ],
   "source": [
    "plt.figure(figsize=(14,6))  #设定画布大小\n",
    "ax= plt.subplot()        \n",
    "mondays = WeekdayLocator(MONDAY)  \n",
    "weekFormatter = DateFormatter('%y %b %d')\n",
    "ax.xaxis.set_major_locator(mondays)\n",
    "ax.xaxis.set_minor_locator(DayLocator() )\n",
    "ax.xaxis.set_major_formatter(weekFormatter)  #设定工作日作为时间轴\n",
    "plt.rcParams['font.sans-serif'] = ['SimHei']  #设定字体 显示中文\n",
    "plt.rcParams['axes.unicode_minus'] = False\n",
    "ax.set_title(\"上证综指2015年3月份K线图\")\n",
    "candlestick_ohlc(ax, ssec15list, width=0.7,colorup='r', colordown='g')  #绘制蜡烛图\n",
    "plt.setp(plt.gca().get_xticklabels(),rotation=50, horizontalalignment='center') \n",
    "plt.show()"
   ]
  },
  {
   "cell_type": "markdown",
   "metadata": {},
   "source": [
    "寻找早晨之星"
   ]
  },
  {
   "cell_type": "markdown",
   "metadata": {},
   "source": [
    "早晨之星的形态组成，一般是3个蜡烛构成，第一个是绿色的阴线，紧接着第二个是一个十字星，第三个蜡烛是一个红色阳线。且长度一般要求大于等于第一个蜡烛图的一半。"
   ]
  },
  {
   "cell_type": "markdown",
   "metadata": {},
   "source": [
    "具体算法如下：\n",
    "1 第一天的收盘价低于开盘价，即蜡烛绿色阴线，第二天的收盘价和开盘价大致相等，第三天蜡烛实体的红色收盘价高于开盘价，两者的差价要大于第一天差价的一半以上。\n",
    "2 关于第二天的十字星，要求开盘价和收盘价同时小于第一天的收盘价和第三天的开盘价。\n",
    "3 前期为下跌趋势\n",
    "\n",
    "\n"
   ]
  },
  {
   "cell_type": "markdown",
   "metadata": {},
   "source": [
    "实战morning star  黎明之星"
   ]
  },
  {
   "cell_type": "code",
   "execution_count": 12,
   "metadata": {},
   "outputs": [
    {
     "data": {
      "text/html": [
       "<div>\n",
       "<style scoped>\n",
       "    .dataframe tbody tr th:only-of-type {\n",
       "        vertical-align: middle;\n",
       "    }\n",
       "\n",
       "    .dataframe tbody tr th {\n",
       "        vertical-align: top;\n",
       "    }\n",
       "\n",
       "    .dataframe thead th {\n",
       "        text-align: right;\n",
       "    }\n",
       "</style>\n",
       "<table border=\"1\" class=\"dataframe\">\n",
       "  <thead>\n",
       "    <tr style=\"text-align: right;\">\n",
       "      <th></th>\n",
       "      <th>Unnamed: 0</th>\n",
       "      <th>Date</th>\n",
       "      <th>Open</th>\n",
       "      <th>High</th>\n",
       "      <th>Low</th>\n",
       "      <th>Close</th>\n",
       "      <th>Volume</th>\n",
       "    </tr>\n",
       "  </thead>\n",
       "  <tbody>\n",
       "    <tr>\n",
       "      <th>0</th>\n",
       "      <td>1</td>\n",
       "      <td>2012-01-04</td>\n",
       "      <td>2211.995117</td>\n",
       "      <td>2217.520020</td>\n",
       "      <td>2168.644043</td>\n",
       "      <td>2169.389893</td>\n",
       "      <td>49200</td>\n",
       "    </tr>\n",
       "    <tr>\n",
       "      <th>1</th>\n",
       "      <td>2</td>\n",
       "      <td>2012-01-05</td>\n",
       "      <td>2160.896973</td>\n",
       "      <td>2183.404053</td>\n",
       "      <td>2145.555908</td>\n",
       "      <td>2148.451904</td>\n",
       "      <td>58800</td>\n",
       "    </tr>\n",
       "    <tr>\n",
       "      <th>2</th>\n",
       "      <td>3</td>\n",
       "      <td>2012-01-06</td>\n",
       "      <td>2148.146973</td>\n",
       "      <td>2164.322021</td>\n",
       "      <td>2132.625977</td>\n",
       "      <td>2163.395020</td>\n",
       "      <td>50600</td>\n",
       "    </tr>\n",
       "    <tr>\n",
       "      <th>3</th>\n",
       "      <td>4</td>\n",
       "      <td>2012-01-09</td>\n",
       "      <td>2164.740967</td>\n",
       "      <td>2226.218018</td>\n",
       "      <td>2148.452881</td>\n",
       "      <td>2225.889893</td>\n",
       "      <td>76800</td>\n",
       "    </tr>\n",
       "    <tr>\n",
       "      <th>4</th>\n",
       "      <td>5</td>\n",
       "      <td>2012-01-10</td>\n",
       "      <td>2221.832031</td>\n",
       "      <td>2288.627930</td>\n",
       "      <td>2218.274902</td>\n",
       "      <td>2285.743896</td>\n",
       "      <td>109600</td>\n",
       "    </tr>\n",
       "  </tbody>\n",
       "</table>\n",
       "</div>"
      ],
      "text/plain": [
       "   Unnamed: 0        Date         Open         High          Low        Close  \\\n",
       "0           1  2012-01-04  2211.995117  2217.520020  2168.644043  2169.389893   \n",
       "1           2  2012-01-05  2160.896973  2183.404053  2145.555908  2148.451904   \n",
       "2           3  2012-01-06  2148.146973  2164.322021  2132.625977  2163.395020   \n",
       "3           4  2012-01-09  2164.740967  2226.218018  2148.452881  2225.889893   \n",
       "4           5  2012-01-10  2221.832031  2288.627930  2218.274902  2285.743896   \n",
       "\n",
       "   Volume  \n",
       "0   49200  \n",
       "1   58800  \n",
       "2   50600  \n",
       "3   76800  \n",
       "4  109600  "
      ]
     },
     "execution_count": 12,
     "metadata": {},
     "output_type": "execute_result"
    }
   ],
   "source": [
    "ssec2012=pd.read_csv('ssec2012.csv')\n",
    "ssec2012.head()\n"
   ]
  },
  {
   "cell_type": "code",
   "execution_count": 13,
   "metadata": {},
   "outputs": [
    {
     "data": {
      "text/html": [
       "<div>\n",
       "<style scoped>\n",
       "    .dataframe tbody tr th:only-of-type {\n",
       "        vertical-align: middle;\n",
       "    }\n",
       "\n",
       "    .dataframe tbody tr th {\n",
       "        vertical-align: top;\n",
       "    }\n",
       "\n",
       "    .dataframe thead th {\n",
       "        text-align: right;\n",
       "    }\n",
       "</style>\n",
       "<table border=\"1\" class=\"dataframe\">\n",
       "  <thead>\n",
       "    <tr style=\"text-align: right;\">\n",
       "      <th></th>\n",
       "      <th>Unnamed: 0</th>\n",
       "      <th>Date</th>\n",
       "      <th>Open</th>\n",
       "      <th>High</th>\n",
       "      <th>Low</th>\n",
       "      <th>Close</th>\n",
       "      <th>Volume</th>\n",
       "    </tr>\n",
       "    <tr>\n",
       "      <th>Date</th>\n",
       "      <th></th>\n",
       "      <th></th>\n",
       "      <th></th>\n",
       "      <th></th>\n",
       "      <th></th>\n",
       "      <th></th>\n",
       "      <th></th>\n",
       "    </tr>\n",
       "  </thead>\n",
       "  <tbody>\n",
       "    <tr>\n",
       "      <th>2012-01-04</th>\n",
       "      <td>1</td>\n",
       "      <td>2012-01-04</td>\n",
       "      <td>2211.995117</td>\n",
       "      <td>2217.520020</td>\n",
       "      <td>2168.644043</td>\n",
       "      <td>2169.389893</td>\n",
       "      <td>49200</td>\n",
       "    </tr>\n",
       "    <tr>\n",
       "      <th>2012-01-05</th>\n",
       "      <td>2</td>\n",
       "      <td>2012-01-05</td>\n",
       "      <td>2160.896973</td>\n",
       "      <td>2183.404053</td>\n",
       "      <td>2145.555908</td>\n",
       "      <td>2148.451904</td>\n",
       "      <td>58800</td>\n",
       "    </tr>\n",
       "    <tr>\n",
       "      <th>2012-01-06</th>\n",
       "      <td>3</td>\n",
       "      <td>2012-01-06</td>\n",
       "      <td>2148.146973</td>\n",
       "      <td>2164.322021</td>\n",
       "      <td>2132.625977</td>\n",
       "      <td>2163.395020</td>\n",
       "      <td>50600</td>\n",
       "    </tr>\n",
       "    <tr>\n",
       "      <th>2012-01-09</th>\n",
       "      <td>4</td>\n",
       "      <td>2012-01-09</td>\n",
       "      <td>2164.740967</td>\n",
       "      <td>2226.218018</td>\n",
       "      <td>2148.452881</td>\n",
       "      <td>2225.889893</td>\n",
       "      <td>76800</td>\n",
       "    </tr>\n",
       "    <tr>\n",
       "      <th>2012-01-10</th>\n",
       "      <td>5</td>\n",
       "      <td>2012-01-10</td>\n",
       "      <td>2221.832031</td>\n",
       "      <td>2288.627930</td>\n",
       "      <td>2218.274902</td>\n",
       "      <td>2285.743896</td>\n",
       "      <td>109600</td>\n",
       "    </tr>\n",
       "  </tbody>\n",
       "</table>\n",
       "</div>"
      ],
      "text/plain": [
       "            Unnamed: 0        Date         Open         High          Low  \\\n",
       "Date                                                                        \n",
       "2012-01-04           1  2012-01-04  2211.995117  2217.520020  2168.644043   \n",
       "2012-01-05           2  2012-01-05  2160.896973  2183.404053  2145.555908   \n",
       "2012-01-06           3  2012-01-06  2148.146973  2164.322021  2132.625977   \n",
       "2012-01-09           4  2012-01-09  2164.740967  2226.218018  2148.452881   \n",
       "2012-01-10           5  2012-01-10  2221.832031  2288.627930  2218.274902   \n",
       "\n",
       "                  Close  Volume  \n",
       "Date                             \n",
       "2012-01-04  2169.389893   49200  \n",
       "2012-01-05  2148.451904   58800  \n",
       "2012-01-06  2163.395020   50600  \n",
       "2012-01-09  2225.889893   76800  \n",
       "2012-01-10  2285.743896  109600  "
      ]
     },
     "execution_count": 13,
     "metadata": {},
     "output_type": "execute_result"
    }
   ],
   "source": [
    "ssec2012.index=ssec2012.iloc[:,1]\n",
    "ssec2012.index=pd.to_datetime(ssec2012.index, format='%Y-%m-%d')\n",
    "ssec2012.head()"
   ]
  },
  {
   "cell_type": "code",
   "execution_count": 14,
   "metadata": {},
   "outputs": [
    {
     "data": {
      "text/html": [
       "<div>\n",
       "<style scoped>\n",
       "    .dataframe tbody tr th:only-of-type {\n",
       "        vertical-align: middle;\n",
       "    }\n",
       "\n",
       "    .dataframe tbody tr th {\n",
       "        vertical-align: top;\n",
       "    }\n",
       "\n",
       "    .dataframe thead th {\n",
       "        text-align: right;\n",
       "    }\n",
       "</style>\n",
       "<table border=\"1\" class=\"dataframe\">\n",
       "  <thead>\n",
       "    <tr style=\"text-align: right;\">\n",
       "      <th></th>\n",
       "      <th>Open</th>\n",
       "      <th>High</th>\n",
       "      <th>Low</th>\n",
       "      <th>Close</th>\n",
       "      <th>Volume</th>\n",
       "    </tr>\n",
       "    <tr>\n",
       "      <th>Date</th>\n",
       "      <th></th>\n",
       "      <th></th>\n",
       "      <th></th>\n",
       "      <th></th>\n",
       "      <th></th>\n",
       "    </tr>\n",
       "  </thead>\n",
       "  <tbody>\n",
       "    <tr>\n",
       "      <th>2012-01-04</th>\n",
       "      <td>2211.995117</td>\n",
       "      <td>2217.520020</td>\n",
       "      <td>2168.644043</td>\n",
       "      <td>2169.389893</td>\n",
       "      <td>49200</td>\n",
       "    </tr>\n",
       "    <tr>\n",
       "      <th>2012-01-05</th>\n",
       "      <td>2160.896973</td>\n",
       "      <td>2183.404053</td>\n",
       "      <td>2145.555908</td>\n",
       "      <td>2148.451904</td>\n",
       "      <td>58800</td>\n",
       "    </tr>\n",
       "  </tbody>\n",
       "</table>\n",
       "</div>"
      ],
      "text/plain": [
       "                   Open         High          Low        Close  Volume\n",
       "Date                                                                  \n",
       "2012-01-04  2211.995117  2217.520020  2168.644043  2169.389893   49200\n",
       "2012-01-05  2160.896973  2183.404053  2145.555908  2148.451904   58800"
      ]
     },
     "execution_count": 14,
     "metadata": {},
     "output_type": "execute_result"
    }
   ],
   "source": [
    "ssec2012=ssec2012.iloc[:,2:]\n",
    "ssec2012.head(2)"
   ]
  },
  {
   "cell_type": "code",
   "execution_count": 15,
   "metadata": {},
   "outputs": [
    {
     "data": {
      "text/html": [
       "<div>\n",
       "<style scoped>\n",
       "    .dataframe tbody tr th:only-of-type {\n",
       "        vertical-align: middle;\n",
       "    }\n",
       "\n",
       "    .dataframe tbody tr th {\n",
       "        vertical-align: top;\n",
       "    }\n",
       "\n",
       "    .dataframe thead th {\n",
       "        text-align: right;\n",
       "    }\n",
       "</style>\n",
       "<table border=\"1\" class=\"dataframe\">\n",
       "  <thead>\n",
       "    <tr style=\"text-align: right;\">\n",
       "      <th></th>\n",
       "      <th>Open</th>\n",
       "      <th>High</th>\n",
       "      <th>Low</th>\n",
       "      <th>Close</th>\n",
       "      <th>Volume</th>\n",
       "    </tr>\n",
       "    <tr>\n",
       "      <th>Date</th>\n",
       "      <th></th>\n",
       "      <th></th>\n",
       "      <th></th>\n",
       "      <th></th>\n",
       "      <th></th>\n",
       "    </tr>\n",
       "  </thead>\n",
       "  <tbody>\n",
       "    <tr>\n",
       "      <th>2012-12-28</th>\n",
       "      <td>2207.913086</td>\n",
       "      <td>2234.868896</td>\n",
       "      <td>2204.002930</td>\n",
       "      <td>2233.251953</td>\n",
       "      <td>116000</td>\n",
       "    </tr>\n",
       "    <tr>\n",
       "      <th>2012-12-31</th>\n",
       "      <td>2236.460938</td>\n",
       "      <td>2269.511963</td>\n",
       "      <td>2236.460938</td>\n",
       "      <td>2269.127930</td>\n",
       "      <td>128000</td>\n",
       "    </tr>\n",
       "  </tbody>\n",
       "</table>\n",
       "</div>"
      ],
      "text/plain": [
       "                   Open         High          Low        Close  Volume\n",
       "Date                                                                  \n",
       "2012-12-28  2207.913086  2234.868896  2204.002930  2233.251953  116000\n",
       "2012-12-31  2236.460938  2269.511963  2236.460938  2269.127930  128000"
      ]
     },
     "execution_count": 15,
     "metadata": {},
     "output_type": "execute_result"
    }
   ],
   "source": [
    "ssec2012.iloc[-2:,:]"
   ]
  },
  {
   "cell_type": "code",
   "execution_count": 16,
   "metadata": {},
   "outputs": [],
   "source": [
    "Close=ssec2012.Close\n",
    "Open=ssec2012.Open\n",
    "ClOp=Close-Open"
   ]
  },
  {
   "cell_type": "code",
   "execution_count": 17,
   "metadata": {},
   "outputs": [
    {
     "data": {
      "text/plain": [
       "Date\n",
       "2012-01-04    2169.389893\n",
       "2012-01-05    2148.451904\n",
       "2012-01-06    2163.395020\n",
       "2012-01-09    2225.889893\n",
       "2012-01-10    2285.743896\n",
       "Name: Close, dtype: float64"
      ]
     },
     "execution_count": 17,
     "metadata": {},
     "output_type": "execute_result"
    }
   ],
   "source": [
    "Close.head()"
   ]
  },
  {
   "cell_type": "code",
   "execution_count": 18,
   "metadata": {},
   "outputs": [
    {
     "data": {
      "text/plain": [
       "Date\n",
       "2012-01-04    2211.995117\n",
       "2012-01-05    2160.896973\n",
       "2012-01-06    2148.146973\n",
       "2012-01-09    2164.740967\n",
       "2012-01-10    2221.832031\n",
       "Name: Open, dtype: float64"
      ]
     },
     "execution_count": 18,
     "metadata": {},
     "output_type": "execute_result"
    }
   ],
   "source": [
    "Open.head()"
   ]
  },
  {
   "cell_type": "markdown",
   "metadata": {},
   "source": [
    "为了计算绿色蜡烛 红色蜡烛和十字星的实体部分，我们需要计算每一个交易日的收盘价和开盘价的差值部分"
   ]
  },
  {
   "cell_type": "code",
   "execution_count": 19,
   "metadata": {},
   "outputs": [
    {
     "data": {
      "text/plain": [
       "Date\n",
       "2012-01-04   -42.605224\n",
       "2012-01-05   -12.445069\n",
       "2012-01-06    15.248047\n",
       "2012-01-09    61.148926\n",
       "2012-01-10    63.911865\n",
       "dtype: float64"
      ]
     },
     "execution_count": 19,
     "metadata": {},
     "output_type": "execute_result"
    }
   ],
   "source": [
    "ClOp.head()"
   ]
  },
  {
   "cell_type": "code",
   "execution_count": 20,
   "metadata": {},
   "outputs": [
    {
     "data": {
      "text/plain": [
       "Date\n",
       "2012-01-04          NaN\n",
       "2012-01-05   -42.605224\n",
       "2012-01-06   -12.445069\n",
       "2012-01-09    15.248047\n",
       "2012-01-10    61.148926\n",
       "dtype: float64"
      ]
     },
     "execution_count": 20,
     "metadata": {},
     "output_type": "execute_result"
    }
   ],
   "source": [
    "ClOp.shift(1).head()"
   ]
  },
  {
   "cell_type": "code",
   "execution_count": 21,
   "metadata": {},
   "outputs": [
    {
     "data": {
      "text/plain": [
       "Date\n",
       "2012-01-04          NaN\n",
       "2012-01-05          NaN\n",
       "2012-01-06   -42.605224\n",
       "2012-01-09   -12.445069\n",
       "2012-01-10    15.248047\n",
       "dtype: float64"
      ]
     },
     "execution_count": 21,
     "metadata": {},
     "output_type": "execute_result"
    }
   ],
   "source": [
    "ClOp.shift(2).head()"
   ]
  },
  {
   "cell_type": "markdown",
   "metadata": {},
   "source": [
    "开始捕捉绿色蜡烛 红色蜡烛和十字星"
   ]
  },
  {
   "cell_type": "code",
   "execution_count": 22,
   "metadata": {},
   "outputs": [
    {
     "name": "stdout",
     "output_type": "stream",
     "text": [
      "lag1 is 15.248047000000042\n",
      "lag2 is -12.445068999999876\n",
      "lag1 is 61.14892599999985\n",
      "lag2 is 15.248047000000042\n",
      "lag1 is 63.911865000000034\n",
      "lag2 is 61.14892599999985\n",
      "lag1 is -6.867188000000169\n",
      "lag2 is 63.911865000000034\n",
      "lag1 is 6.270995999999741\n",
      "lag2 is -6.867188000000169\n",
      "lag1 is -32.5\n",
      "lag2 is 6.270995999999741\n",
      "lag1 is -24.239990000000034\n",
      "lag2 is -32.5\n",
      "lag1 is 91.8439940000003\n",
      "lag2 is -24.239990000000034\n",
      "lag1 is -32.44897499999979\n",
      "lag2 is 91.8439940000003\n",
      "lag1 is 29.999022999999852\n",
      "lag2 is -32.44897499999979\n",
      "lag1 is 18.61792000000014\n",
      "lag2 is 29.999022999999852\n",
      "lag1 is -39.45483400000012\n",
      "lag2 is 18.61792000000014\n",
      "lag1 is 6.656004999999823\n",
      "lag2 is -39.45483400000012\n",
      "lag1 is -19.985839999999826\n",
      "lag2 is 6.656004999999823\n",
      "lag1 is 38.70580999999993\n",
      "lag2 is -19.985839999999826\n",
      "lag1 is 23.749023000000307\n",
      "lag2 is 38.70580999999993\n",
      "lag1 is -3.112061000000267\n",
      "lag2 is 23.749023000000307\n",
      "lag1 is -27.51879800000006\n",
      "lag2 is -3.112061000000267\n",
      "lag1 is 55.71801699999969\n",
      "lag2 is -27.51879800000006\n",
      "lag1 is 5.36498999999958\n",
      "lag2 is 55.71801699999969\n",
      "lag1 is 9.969971000000442\n",
      "lag2 is 5.36498999999958\n",
      "lag1 is 19.799071999999796\n",
      "lag2 is 9.969971000000442\n",
      "lag1 is -4.105956999999762\n",
      "lag2 is 19.799071999999796\n",
      "lag1 is 26.246826000000056\n",
      "lag2 is -4.105956999999762\n",
      "lag1 is -7.036865999999918\n",
      "lag2 is 26.246826000000056\n",
      "lag1 is -9.448974999999791\n",
      "lag2 is -7.036865999999918\n",
      "lag1 is -20.08911100000023\n",
      "lag2 is -9.448974999999791\n",
      "lag1 is 15.942871000000196\n",
      "lag2 is -20.08911100000023\n",
      "lag1 is 23.083983999999873\n",
      "lag2 is 15.942871000000196\n",
      "lag1 is 7.815917999999783\n",
      "lag2 is 23.083983999999873\n",
      "lag1 is 28.745848999999907\n",
      "lag2 is 7.815917999999783\n",
      "lag1 is -0.3491209999997409\n",
      "lag2 is 28.745848999999907\n",
      "lag1 is 10.942871999999625\n",
      "lag2 is -0.3491209999997409\n",
      "lag1 is -17.7409660000003\n",
      "lag2 is 10.942871999999625\n",
      "lag1 is 7.326904000000013\n",
      "lag2 is -17.7409660000003\n",
      "lag1 is 30.59619100000009\n",
      "lag2 is 7.326904000000013\n",
      "lag1 is -19.847168000000238\n",
      "lag2 is 30.59619100000009\n",
      "lag1 is -29.33398500000021\n",
      "lag2 is -19.847168000000238\n",
      "lag1 is 3.592040999999881\n",
      "lag2 is -29.33398500000021\n",
      "lag1 is 19.173827999999503\n",
      "lag2 is 3.592040999999881\n",
      "lag1 is 13.576904000000013\n",
      "lag2 is 19.173827999999503\n",
      "lag1 is -3.6879879999996774\n",
      "lag2 is 13.576904000000013\n",
      "lag1 is 22.950926999999865\n",
      "lag2 is -3.6879879999996774\n",
      "lag1 is -73.68505899999991\n",
      "lag2 is 22.950926999999865\n",
      "lag1 is -14.289061999999376\n",
      "lag2 is -73.68505899999991\n",
      "lag1 is 26.97900400000026\n",
      "lag2 is -14.289061999999376\n",
      "lag1 is 8.967041000000336\n",
      "lag2 is 26.97900400000026\n",
      "lag1 is -30.702881000000616\n",
      "lag2 is 8.967041000000336\n",
      "lag1 is -6.513915999999881\n",
      "lag2 is -30.702881000000616\n",
      "lag1 is -1.2189940000002935\n",
      "lag2 is -6.513915999999881\n",
      "lag1 is -19.537841999999728\n",
      "lag2 is -1.2189940000002935\n",
      "lag1 is 1.5131830000004811\n",
      "lag2 is -19.537841999999728\n",
      "lag1 is -11.365967000000182\n",
      "lag2 is 1.5131830000004811\n",
      "lag1 is -56.121826000000056\n",
      "lag2 is -11.365967000000182\n",
      "lag1 is -24.580077999999958\n",
      "lag2 is -56.121826000000056\n",
      "lag1 is 6.74609399999963\n",
      "lag2 is -24.580077999999958\n",
      "lag1 is 44.209961000000476\n",
      "lag2 is 6.74609399999963\n",
      "lag1 is 7.498047000000042\n",
      "lag2 is 44.209961000000476\n",
      "lag1 is -14.273925000000418\n",
      "lag2 is 7.498047000000042\n",
      "lag1 is 24.839110999999775\n",
      "lag2 is -14.273925000000418\n",
      "lag1 is 22.208984999999757\n",
      "lag2 is 24.839110999999775\n",
      "lag1 is 40.3801269999999\n",
      "lag2 is 22.208984999999757\n",
      "lag1 is 7.647950000000037\n",
      "lag2 is 40.3801269999999\n",
      "lag1 is 10.718993999999839\n",
      "lag2 is 7.647950000000037\n",
      "lag1 is -20.38378899999998\n",
      "lag2 is 10.718993999999839\n",
      "lag1 is 39.71289000000024\n",
      "lag2 is -20.38378899999998\n",
      "lag1 is 0.001952999999957683\n",
      "lag2 is 39.71289000000024\n",
      "lag1 is 32.200928000000204\n",
      "lag2 is 0.001952999999957683\n",
      "lag1 is -14.933105000000069\n",
      "lag2 is 32.200928000000204\n",
      "lag1 is 8.597899999999754\n",
      "lag2 is -14.933105000000069\n",
      "lag1 is 24.602049999999963\n",
      "lag2 is 8.597899999999754\n",
      "lag1 is -3.861084000000119\n",
      "lag2 is 24.602049999999963\n",
      "lag1 is -6.114990000000034\n",
      "lag2 is -3.861084000000119\n",
      "lag1 is 17.35400400000026\n",
      "lag2 is -6.114990000000034\n",
      "lag1 is 6.4909670000001825\n",
      "lag2 is 17.35400400000026\n",
      "lag1 is 14.548827999999958\n",
      "lag2 is 6.4909670000001825\n",
      "lag1 is 10.18994100000009\n",
      "lag2 is 14.548827999999958\n",
      "lag1 is -2.690918000000238\n",
      "lag2 is 10.18994100000009\n",
      "lag1 is -23.88598600000023\n",
      "lag2 is -2.690918000000238\n",
      "lag1 is 0.28393599999981234\n",
      "lag2 is -23.88598600000023\n",
      "lag1 is -11.092040999999881\n",
      "lag2 is 0.28393599999981234\n",
      "lag1 is -27.536865000000034\n",
      "lag2 is -11.092040999999881\n",
      "lag1 is 7.76001000000042\n",
      "lag2 is -27.536865000000034\n",
      "lag1 is -23.102049999999963\n",
      "lag2 is 7.76001000000042\n",
      "lag1 is 31.708983999999873\n",
      "lag2 is -23.102049999999963\n",
      "lag1 is -20.377930000000106\n",
      "lag2 is 31.708983999999873\n",
      "lag1 is 4.725097999999889\n",
      "lag2 is -20.377930000000106\n",
      "lag1 is 17.573973999999907\n",
      "lag2 is 4.725097999999889\n",
      "lag1 is -5.8278809999997065\n",
      "lag2 is 17.573973999999907\n",
      "lag1 is -8.708984999999757\n",
      "lag2 is -5.8278809999997065\n",
      "lag1 is -16.988037000000077\n",
      "lag2 is -8.708984999999757\n",
      "lag1 is 36.05004800000006\n",
      "lag2 is -16.988037000000077\n",
      "lag1 is 28.63305599999967\n",
      "lag2 is 36.05004800000006\n",
      "lag1 is -0.7241209999997409\n",
      "lag2 is 28.63305599999967\n",
      "lag1 is 2.2268070000004627\n",
      "lag2 is -0.7241209999997409\n",
      "lag1 is 0.21191399999997884\n",
      "lag2 is 2.2268070000004627\n",
      "lag1 is -38.43383800000038\n",
      "lag2 is 0.21191399999997884\n",
      "lag1 is -1.8239739999999074\n",
      "lag2 is -38.43383800000038\n",
      "lag1 is -6.0061030000001665\n",
      "lag2 is -1.8239739999999074\n",
      "lag1 is -31.542236000000685\n",
      "lag2 is -6.0061030000001665\n",
      "lag1 is -24.771973000000344\n",
      "lag2 is -31.542236000000685\n",
      "lag1 is 22.96484400000054\n",
      "lag2 is -24.771973000000344\n",
      "lag1 is -5.279051999999865\n",
      "lag2 is 22.96484400000054\n",
      "lag1 is 29.21704099999988\n",
      "lag2 is -5.279051999999865\n",
      "lag1 is -10.834960999999566\n",
      "lag2 is 29.21704099999988\n",
      "lag1 is 7.0690920000001825\n",
      "lag2 is -10.834960999999566\n",
      "lag1 is 2.521972999999889\n",
      "lag2 is 7.0690920000001825\n",
      "lag1 is -12.660155999999915\n",
      "lag2 is 2.521972999999889\n",
      "lag1 is -7.529052999999749\n",
      "lag2 is -12.660155999999915\n",
      "lag1 is -27.57714900000019\n",
      "lag2 is -7.529052999999749\n",
      "lag1 is -29.399901999999656\n",
      "lag2 is -27.57714900000019\n",
      "lag1 is 7.41796899999963\n",
      "lag2 is -29.399901999999656\n",
      "lag1 is -3.0100099999999657\n",
      "lag2 is 7.41796899999963\n",
      "lag1 is -24.39306600000009\n",
      "lag2 is -3.0100099999999657\n",
      "lag1 is 34.85498099999995\n",
      "lag2 is -24.39306600000009\n",
      "lag1 is -8.209961000000021\n",
      "lag2 is 34.85498099999995\n",
      "lag1 is 3.625\n",
      "lag2 is -8.209961000000021\n",
      "lag1 is -6.020019999999931\n",
      "lag2 is 3.625\n",
      "lag1 is -16.863037000000077\n",
      "lag2 is -6.020019999999931\n",
      "lag1 is 19.84912200000008\n",
      "lag2 is -16.863037000000077\n",
      "lag1 is -39.90014599999995\n",
      "lag2 is 19.84912200000008\n",
      "lag1 is -2.5090330000002723\n",
      "lag2 is -39.90014599999995\n",
      "lag1 is 15.363037000000077\n",
      "lag2 is -2.5090330000002723\n",
      "lag1 is 13.427002000000357\n",
      "lag2 is 15.363037000000077\n",
      "lag1 is 5.722900999999638\n",
      "lag2 is 13.427002000000357\n",
      "lag1 is -39.931884999999966\n",
      "lag2 is 5.722900999999638\n",
      "lag1 is 18.756103000000167\n",
      "lag2 is -39.931884999999966\n",
      "lag1 is 9.242187000000285\n",
      "lag2 is 18.756103000000167\n",
      "lag1 is 20.567137999999886\n",
      "lag2 is 9.242187000000285\n",
      "lag1 is -11.374023999999736\n",
      "lag2 is 20.567137999999886\n",
      "lag1 is -12.76879800000006\n",
      "lag2 is -11.374023999999736\n",
      "lag1 is 14.270996000000196\n",
      "lag2 is -12.76879800000006\n",
      "lag1 is -4.88501000000042\n",
      "lag2 is 14.270996000000196\n",
      "lag1 is -8.983154999999897\n",
      "lag2 is -4.88501000000042\n",
      "lag1 is -3.2441399999997884\n",
      "lag2 is -8.983154999999897\n",
      "lag1 is -18.244873999999527\n",
      "lag2 is -3.2441399999997884\n",
      "lag1 is -5.68994100000009\n",
      "lag2 is -18.244873999999527\n",
      "lag1 is 21.637206999999762\n",
      "lag2 is -5.68994100000009\n",
      "lag1 is -8.96411100000023\n",
      "lag2 is 21.637206999999762\n",
      "lag1 is 18.831787000000077\n",
      "lag2 is -8.96411100000023\n",
      "lag1 is 25.76806700000043\n",
      "lag2 is 18.831787000000077\n",
      "lag1 is 4.527099000000362\n",
      "lag2 is 25.76806700000043\n",
      "lag1 is 2.008056000000124\n",
      "lag2 is 4.527099000000362\n",
      "lag1 is 14.667969000000085\n",
      "lag2 is 2.008056000000124\n",
      "lag1 is -4.15014599999995\n",
      "lag2 is 14.667969000000085\n",
      "lag1 is -27.965088000000378\n",
      "lag2 is -4.15014599999995\n",
      "lag1 is 5.476807000000008\n",
      "lag2 is -27.965088000000378\n",
      "lag1 is -19.333008000000063\n",
      "lag2 is 5.476807000000008\n",
      "lag1 is -3.883057000000008\n",
      "lag2 is -19.333008000000063\n",
      "lag1 is 3.238036999999622\n",
      "lag2 is -3.883057000000008\n",
      "lag1 is 4.726073999999699\n",
      "lag2 is 3.238036999999622\n",
      "lag1 is 11.88696200000004\n",
      "lag2 is 4.726073999999699\n",
      "lag1 is -11.170166000000336\n",
      "lag2 is 11.88696200000004\n",
      "lag1 is 6.1120599999999286\n",
      "lag2 is -11.170166000000336\n",
      "lag1 is -16.256103000000167\n",
      "lag2 is 6.1120599999999286\n",
      "lag1 is -29.665039000000434\n",
      "lag2 is -16.256103000000167\n",
      "lag1 is 18.187012000000323\n",
      "lag2 is -29.665039000000434\n",
      "lag1 is -13.584961000000021\n",
      "lag2 is 18.187012000000323\n",
      "lag1 is 8.55200200000013\n",
      "lag2 is -13.584961000000021\n",
      "lag1 is 1.233033000000205\n",
      "lag2 is 8.55200200000013\n",
      "lag1 is 14.32299799999987\n",
      "lag2 is 1.233033000000205\n",
      "lag1 is -16.963989000000083\n",
      "lag2 is 14.32299799999987\n",
      "lag1 is -1.1920169999998507\n",
      "lag2 is -16.963989000000083\n",
      "lag1 is 11.25\n",
      "lag2 is -1.1920169999998507\n",
      "lag1 is 64.77197299999989\n",
      "lag2 is 11.25\n",
      "lag1 is 6.828125\n",
      "lag2 is 64.77197299999989\n",
      "lag1 is -6.965087999999923\n",
      "lag2 is 6.828125\n",
      "lag1 is -3.1330570000004627\n",
      "lag2 is -6.965087999999923\n",
      "lag1 is -13.461182000000008\n",
      "lag2 is -3.1330570000004627\n",
      "lag1 is -3.5419919999999365\n",
      "lag2 is -13.461182000000008\n",
      "lag1 is -42.11694299999999\n",
      "lag2 is -3.5419919999999365\n",
      "lag1 is -9.800048999999944\n",
      "lag2 is -42.11694299999999\n",
      "lag1 is 6.770019999999931\n",
      "lag2 is -9.800048999999944\n",
      "lag1 is -35.46887199999992\n",
      "lag2 is 6.770019999999931\n",
      "lag1 is 6.135986000000003\n",
      "lag2 is -35.46887199999992\n",
      "lag1 is 17.425049000000172\n",
      "lag2 is 6.135986000000003\n",
      "lag1 is 0.6610110000003715\n",
      "lag2 is 17.425049000000172\n",
      "lag1 is -23.68298300000015\n",
      "lag2 is 0.6610110000003715\n",
      "lag1 is 53.223999000000276\n",
      "lag2 is -23.68298300000015\n",
      "lag1 is 43.28295899999989\n",
      "lag2 is 53.223999000000276\n",
      "lag1 is -10.430176000000301\n",
      "lag2 is 43.28295899999989\n",
      "lag1 is 33.64111299999968\n",
      "lag2 is -10.430176000000301\n",
      "lag1 is 8.354980999999952\n",
      "lag2 is 33.64111299999968\n",
      "lag1 is -11.36401399999977\n",
      "lag2 is 8.354980999999952\n",
      "lag1 is -4.138183000000026\n",
      "lag2 is -11.36401399999977\n",
      "lag1 is -6.321045000000595\n",
      "lag2 is -4.138183000000026\n",
      "lag1 is 1.7580560000001242\n",
      "lag2 is -6.321045000000595\n",
      "lag1 is 1.337891000000127\n",
      "lag2 is 1.7580560000001242\n",
      "lag1 is 23.189940999999635\n",
      "lag2 is 1.337891000000127\n",
      "lag1 is -1.5180660000000898\n",
      "lag2 is 23.189940999999635\n",
      "lag1 is 14.237060999999812\n",
      "lag2 is -1.5180660000000898\n",
      "lag1 is -17.660889000000225\n",
      "lag2 is 14.237060999999812\n",
      "lag1 is 9.159912000000077\n",
      "lag2 is -17.660889000000225\n",
      "lag1 is -13.183837999999923\n",
      "lag2 is 9.159912000000077\n",
      "lag1 is -33.891114000000016\n",
      "lag2 is -13.183837999999923\n",
      "lag1 is -2.90380899999991\n",
      "lag2 is -33.891114000000016\n",
      "lag1 is 3.1450199999999313\n",
      "lag2 is -2.90380899999991\n",
      "lag1 is 7.755859999999757\n",
      "lag2 is 3.1450199999999313\n",
      "lag1 is 34.40698199999997\n",
      "lag2 is 7.755859999999757\n",
      "lag1 is 11.59692300000006\n",
      "lag2 is 34.40698199999997\n",
      "lag1 is 0.6992190000000846\n",
      "lag2 is 11.59692300000006\n",
      "lag1 is -7.658936000000267\n",
      "lag2 is 0.6992190000000846\n",
      "lag1 is 3.3110350000001745\n",
      "lag2 is -7.658936000000267\n",
      "lag1 is -19.744873000000098\n",
      "lag2 is 3.3110350000001745\n",
      "lag1 is 2.57177799999954\n",
      "lag2 is -19.744873000000098\n",
      "lag1 is 10.058837999999923\n",
      "lag2 is 2.57177799999954\n",
      "lag1 is -30.244019000000208\n",
      "lag2 is 10.058837999999923\n",
      "lag1 is 8.161987000000181\n",
      "lag2 is -30.244019000000208\n",
      "lag1 is -15.166016000000127\n",
      "lag2 is 8.161987000000181\n",
      "lag1 is -11.838011999999708\n",
      "lag2 is -15.166016000000127\n",
      "lag1 is 3.7360839999998916\n",
      "lag2 is -11.838011999999708\n",
      "lag1 is -11.510009000000082\n",
      "lag2 is 3.7360839999998916\n",
      "lag1 is 22.107909999999947\n",
      "lag2 is -11.510009000000082\n",
      "lag1 is -5.598021999999673\n",
      "lag2 is 22.107909999999947\n",
      "lag1 is 7.369017999999869\n",
      "lag2 is -5.598021999999673\n",
      "lag1 is -5.875\n",
      "lag2 is 7.369017999999869\n",
      "lag1 is -20.909912000000077\n",
      "lag2 is -5.875\n",
      "lag1 is -10.957031000000143\n",
      "lag2 is -20.909912000000077\n",
      "lag1 is -9.437011999999868\n",
      "lag2 is -10.957031000000143\n",
      "lag1 is 18.302001999999902\n",
      "lag2 is -9.437011999999868\n",
      "lag1 is -17.487060000000156\n",
      "lag2 is 18.302001999999902\n",
      "lag1 is 18.526976999999988\n",
      "lag2 is -17.487060000000156\n",
      "lag1 is 58.79992600000014\n",
      "lag2 is 18.526976999999988\n",
      "lag1 is -0.3249510000000555\n",
      "lag2 is 58.79992600000014\n",
      "lag1 is 33.01989800000024\n",
      "lag2 is -0.3249510000000555\n",
      "lag1 is 16.44604500000014\n",
      "lag2 is 33.01989800000024\n",
      "lag1 is -2.8527829999998175\n",
      "lag2 is 16.44604500000014\n",
      "lag1 is 9.455077999999503\n",
      "lag2 is -2.8527829999998175\n",
      "lag1 is -15.940918000000693\n",
      "lag2 is 9.455077999999503\n",
      "lag1 is 87.93603500000017\n",
      "lag2 is -15.940918000000693\n",
      "lag1 is 8.245116999999937\n",
      "lag2 is 87.93603500000017\n",
      "lag1 is 6.606200999999601\n",
      "lag2 is 8.245116999999937\n",
      "lag1 is 3.5690920000001825\n",
      "lag2 is 6.606200999999601\n",
      "lag1 is 12.159912000000077\n",
      "lag2 is 3.5690920000001825\n",
      "lag1 is -16.260009000000082\n",
      "lag2 is 12.159912000000077\n",
      "lag1 is 8.398925999999847\n",
      "lag2 is -16.260009000000082\n",
      "lag1 is 59.29101600000013\n",
      "lag2 is 8.398925999999847\n",
      "lag1 is 7.538085999999566\n",
      "lag2 is 59.29101600000013\n",
      "lag1 is -17.758056000000124\n",
      "lag2 is 7.538085999999566\n",
      "lag1 is 25.338866999999937\n",
      "lag2 is -17.758056000000124\n"
     ]
    }
   ],
   "source": [
    "###准备条件1\n",
    "Shape = [0,0,0]\n",
    "lag1ClOp=ClOp.shift(1)\n",
    "lag2ClOp=ClOp.shift(2)\n",
    "\n",
    "for i in range(3,len(ClOp),1):\n",
    "    print ('lag1 is ' + str(lag1ClOp[i]) )\n",
    "    print ('lag2 is ' + str (lag2ClOp[i] ))\n",
    "    if all([lag2ClOp[i]<-11,abs(lag1ClOp[i])<2,\\\n",
    "    ClOp[i]>6,abs(ClOp[i])>abs(lag2ClOp[i]*0.5)]):\n",
    "        Shape.append(1)\n",
    "    else:\n",
    "        Shape.append(0)"
   ]
  },
  {
   "cell_type": "code",
   "execution_count": 23,
   "metadata": {},
   "outputs": [
    {
     "data": {
      "text/plain": [
       "243"
      ]
     },
     "execution_count": 23,
     "metadata": {},
     "output_type": "execute_result"
    }
   ],
   "source": [
    "len(Shape)"
   ]
  },
  {
   "cell_type": "code",
   "execution_count": 24,
   "metadata": {},
   "outputs": [
    {
     "data": {
      "text/plain": [
       "165"
      ]
     },
     "execution_count": 24,
     "metadata": {},
     "output_type": "execute_result"
    }
   ],
   "source": [
    "Shape.index(1)"
   ]
  },
  {
   "cell_type": "markdown",
   "metadata": {},
   "source": [
    "定义下跌趋势\n",
    "先计算收益率 ,定义十字星数据位置，十字星需要在绿色实体后面，红色实体前面"
   ]
  },
  {
   "cell_type": "code",
   "execution_count": 25,
   "metadata": {},
   "outputs": [],
   "source": [
    "lagOpen=Open.shift(1)\n",
    "lagClose=Close.shift(1)\n",
    "lag2Close=Close.shift(2)"
   ]
  },
  {
   "cell_type": "markdown",
   "metadata": {},
   "source": [
    "捕捉十字星"
   ]
  },
  {
   "cell_type": "code",
   "execution_count": 26,
   "metadata": {},
   "outputs": [
    {
     "data": {
      "text/plain": [
       "12"
      ]
     },
     "execution_count": 26,
     "metadata": {},
     "output_type": "execute_result"
    }
   ],
   "source": [
    "###准备条件2\n",
    "Doji=[0,0,0]\n",
    "for i in range(3,len(Open),1):\n",
    "    if all([lagOpen[i]<Open[i],lagOpen[i]<lag2Close[i],\\\n",
    "    lagClose[i]<Open[i],(lagClose[i]<lag2Close[i])]):\n",
    "        Doji.append(1)\n",
    "    else:\n",
    "        Doji.append(0)\n",
    "Doji.count(1)"
   ]
  },
  {
   "cell_type": "markdown",
   "metadata": {},
   "source": [
    "刻画下跌趋势"
   ]
  },
  {
   "cell_type": "code",
   "execution_count": null,
   "metadata": {},
   "outputs": [],
   "source": []
  },
  {
   "cell_type": "code",
   "execution_count": 27,
   "metadata": {},
   "outputs": [
    {
     "data": {
      "text/plain": [
       "Date\n",
       "2012-01-04            NaN\n",
       "2012-01-05    2169.389893\n",
       "2012-01-06    2148.451904\n",
       "2012-01-09    2163.395020\n",
       "2012-01-10    2225.889893\n",
       "2012-01-11    2285.743896\n",
       "2012-01-12    2276.045898\n",
       "2012-01-13    2275.010010\n",
       "2012-01-16    2244.580078\n",
       "2012-01-17    2206.193115\n",
       "Name: Close, dtype: float64"
      ]
     },
     "execution_count": 27,
     "metadata": {},
     "output_type": "execute_result"
    }
   ],
   "source": [
    "Close.shift(1).head(10)"
   ]
  },
  {
   "cell_type": "code",
   "execution_count": 28,
   "metadata": {},
   "outputs": [
    {
     "data": {
      "text/plain": [
       "Date\n",
       "2012-01-04    2169.389893\n",
       "2012-01-05    2148.451904\n",
       "2012-01-06    2163.395020\n",
       "2012-01-09    2225.889893\n",
       "2012-01-10    2285.743896\n",
       "2012-01-11    2276.045898\n",
       "2012-01-12    2275.010010\n",
       "2012-01-13    2244.580078\n",
       "2012-01-16    2206.193115\n",
       "2012-01-17    2298.375000\n",
       "Name: Close, dtype: float64"
      ]
     },
     "execution_count": 28,
     "metadata": {},
     "output_type": "execute_result"
    }
   ],
   "source": [
    "Close.head(10)"
   ]
  },
  {
   "cell_type": "code",
   "execution_count": 29,
   "metadata": {},
   "outputs": [
    {
     "data": {
      "text/plain": [
       "Date\n",
       "2012-01-04         NaN\n",
       "2012-01-05   -0.009652\n",
       "2012-01-06    0.006955\n",
       "2012-01-09    0.028887\n",
       "2012-01-10    0.026890\n",
       "Name: Close, dtype: float64"
      ]
     },
     "execution_count": 29,
     "metadata": {},
     "output_type": "execute_result"
    }
   ],
   "source": [
    "ret=Close/Close.shift(1)-1\n",
    "ret.head(5)"
   ]
  },
  {
   "cell_type": "code",
   "execution_count": 30,
   "metadata": {},
   "outputs": [],
   "source": [
    "###准备条件3  下跌趋势判断\n",
    "ret=Close/Close.shift(1)-1\n",
    "lag1ret=ret.shift(1)\n",
    "lag2ret=ret.shift(2)\n",
    "Trend=[0,0,0]\n",
    "for i in range(3,len(ret)):\n",
    "    if all([lag1ret[i]<0,lag2ret[i]<0]):\n",
    "        Trend.append(1)\n",
    "    else:\n",
    "        Trend.append(0)"
   ]
  },
  {
   "cell_type": "code",
   "execution_count": 31,
   "metadata": {},
   "outputs": [
    {
     "name": "stdout",
     "output_type": "stream",
     "text": [
      "2012-09-06 00:00:00\n"
     ]
    }
   ],
   "source": [
    "StarSig=[]\n",
    "for i in range(len(Trend)):\n",
    "    if all([Shape[i]==1,Doji[i]==1,Trend[i]==1]):\n",
    "        StarSig.append(1)\n",
    "    else:\n",
    "        StarSig.append(0)\n",
    "\n",
    "for i in range(len(StarSig)):\n",
    "    if StarSig[i]==1:\n",
    "        print(ssec2012.index[i])"
   ]
  },
  {
   "cell_type": "code",
   "execution_count": 32,
   "metadata": {},
   "outputs": [
    {
     "name": "stderr",
     "output_type": "stream",
     "text": [
      "C:\\Anaconda3\\lib\\site-packages\\pandas\\core\\indexing.py:362: SettingWithCopyWarning: \n",
      "A value is trying to be set on a copy of a slice from a DataFrame.\n",
      "Try using .loc[row_indexer,col_indexer] = value instead\n",
      "\n",
      "See the caveats in the documentation: http://pandas.pydata.org/pandas-docs/stable/indexing.html#indexing-view-versus-copy\n",
      "  self.obj[key] = _infer_fill_value(value)\n",
      "C:\\Anaconda3\\lib\\site-packages\\pandas\\core\\indexing.py:543: SettingWithCopyWarning: \n",
      "A value is trying to be set on a copy of a slice from a DataFrame.\n",
      "Try using .loc[row_indexer,col_indexer] = value instead\n",
      "\n",
      "See the caveats in the documentation: http://pandas.pydata.org/pandas-docs/stable/indexing.html#indexing-view-versus-copy\n",
      "  self.obj[item] = s\n"
     ]
    },
    {
     "data": {
      "image/png": "[encoded data removed]",
      "text/plain": [
       "<Figure size 432x288 with 1 Axes>"
      ]
     },
     "metadata": {
      "needs_background": "light"
     },
     "output_type": "display_data"
    }
   ],
   "source": [
    "ssec201209=ssec2012['2012-08-21':'2012-09-30']\n",
    "\n",
    "# Need to specify path before import\n",
    "import candle\n",
    "candle.candlePlot(ssec201209 ,title=' 上 证 综 指 2012 年9 月 份 的 日 K 线图 ')"
   ]
  },
  {
   "cell_type": "code",
   "execution_count": 33,
   "metadata": {},
   "outputs": [],
   "source": [
    "# Dark Cloud Cover\n",
    "# 提 取 读 入 上 证 综 指 年 的 日 交 易 数 据\n",
    "import pandas as pd\n",
    "ssec2011=pd.read_csv('ssec2011.csv')\n",
    "ssec2011.index=ssec2011.iloc[:,1]\n",
    "ssec2011.index=pd.to_datetime(ssec2011.index, format='%Y-%m-%d')\n",
    "ssec2011=ssec2011.iloc[:,2:]"
   ]
  },
  {
   "cell_type": "code",
   "execution_count": 34,
   "metadata": {},
   "outputs": [],
   "source": [
    "# 提 取 价 格 数 据\n",
    "Close11=ssec2011.Close\n",
    "Open11=ssec2011.Open"
   ]
  },
  {
   "cell_type": "markdown",
   "metadata": {},
   "source": [
    " 刻 画 捕 捉 符 合 “ 乌 云 盖 顶 ” 形 态 的 连 续 两 个 蜡 烛 实 体\n",
    " 条件1 第一个红色蜡烛实体  收盘价高于开盘价 ， 第二个绿色蜡烛 收盘价低于开盘价\n",
    " 条件2 第二天开盘价高于第一天的收盘价，第二天收盘价位于第一天实体的下半部分（第二天收盘价低于第一天开盘和收盘价之和的一半）并且大于第一天的开盘价。\n",
    " 条件3 前期为上升趋势"
   ]
  },
  {
   "cell_type": "code",
   "execution_count": 35,
   "metadata": {},
   "outputs": [],
   "source": [
    "# 刻 画 捕 捉 符 合 “ 乌 云 盖 顶 ” 形 态 的 连 续 两 个 蜡 烛 实 体\n",
    "lagClose11=Close11.shift(1)\n",
    "lagOpen11=Open11.shift(1)\n",
    "Cloud=pd.Series(0,index=Close11.index)\n",
    "for i in range(1,len(Close11)):\n",
    "    if all([Close11[i]<Open11[i],\\\n",
    "            lagClose11[i]>lagOpen11[i],\\\n",
    "            Open11[i]>lagClose11[i],\\\n",
    "            Close11[i]<0.5*(lagClose11[i]+lagOpen11[i]),\\\n",
    "            Close11[i]>lagOpen11[i]]):\n",
    "        Cloud[i]=1"
   ]
  },
  {
   "cell_type": "code",
   "execution_count": 36,
   "metadata": {},
   "outputs": [],
   "source": [
    "# 定 义 前 期 上 升 趋 势\n",
    "Trend=pd.Series(0,index=Close11.index)\n",
    "for i in range(2,len(Close11)):\n",
    "    if Close11[i-1]>Close11[i-2]>Close11[i-3]:\n",
    "        Trend[i]=1"
   ]
  },
  {
   "cell_type": "code",
   "execution_count": 37,
   "metadata": {},
   "outputs": [
    {
     "data": {
      "text/plain": [
       "Date\n",
       "2011-01-04    0\n",
       "2011-01-05    0\n",
       "2011-01-06    0\n",
       "2011-01-07    0\n",
       "2011-01-10    0\n",
       "dtype: int64"
      ]
     },
     "execution_count": 37,
     "metadata": {},
     "output_type": "execute_result"
    }
   ],
   "source": [
    "Cloud.head(5)"
   ]
  },
  {
   "cell_type": "code",
   "execution_count": 38,
   "metadata": {},
   "outputs": [
    {
     "data": {
      "text/plain": [
       "Date\n",
       "2011-01-04    0\n",
       "2011-01-05    0\n",
       "2011-01-06    0\n",
       "2011-01-07    0\n",
       "2011-01-10    0\n",
       "dtype: int64"
      ]
     },
     "execution_count": 38,
     "metadata": {},
     "output_type": "execute_result"
    }
   ],
   "source": [
    "Trend.head()"
   ]
  },
  {
   "cell_type": "code",
   "execution_count": 39,
   "metadata": {},
   "outputs": [
    {
     "data": {
      "text/plain": [
       "Date\n",
       "2011-01-04    0\n",
       "2011-01-05    0\n",
       "2011-01-06    0\n",
       "2011-01-07    0\n",
       "2011-01-10    0\n",
       "2011-01-11    0\n",
       "2011-01-12    0\n",
       "2011-01-13    1\n",
       "2011-01-14    1\n",
       "2011-01-17    0\n",
       "2011-01-18    0\n",
       "2011-01-19    0\n",
       "2011-01-20    1\n",
       "2011-01-21    0\n",
       "2011-01-24    0\n",
       "2011-01-25    0\n",
       "2011-01-26    0\n",
       "2011-01-27    0\n",
       "2011-01-28    1\n",
       "2011-01-31    1\n",
       "dtype: int64"
      ]
     },
     "execution_count": 39,
     "metadata": {},
     "output_type": "execute_result"
    }
   ],
   "source": [
    "darkCloud=Cloud+Trend\n",
    "darkCloud.head(20)"
   ]
  },
  {
   "cell_type": "code",
   "execution_count": 40,
   "metadata": {},
   "outputs": [
    {
     "data": {
      "text/plain": [
       "Date\n",
       "2011-05-19    2\n",
       "2011-08-16    2\n",
       "dtype: int64"
      ]
     },
     "execution_count": 40,
     "metadata": {},
     "output_type": "execute_result"
    }
   ],
   "source": [
    "darkCloud[darkCloud==2]\n"
   ]
  },
  {
   "cell_type": "code",
   "execution_count": 41,
   "metadata": {},
   "outputs": [
    {
     "name": "stderr",
     "output_type": "stream",
     "text": [
      "C:\\Anaconda3\\lib\\site-packages\\pandas\\core\\indexing.py:635: SettingWithCopyWarning: \n",
      "A value is trying to be set on a copy of a slice from a DataFrame.\n",
      "Try using .loc[row_indexer,col_indexer] = value instead\n",
      "\n",
      "See the caveats in the documentation: http://pandas.pydata.org/pandas-docs/stable/indexing.html#indexing-view-versus-copy\n",
      "  self.obj[item_labels[indexer[info_axis]]] = value\n"
     ]
    },
    {
     "data": {
      "image/png": "[encoded data removed]",
      "text/plain": [
       "<Figure size 432x288 with 1 Axes>"
      ]
     },
     "metadata": {
      "needs_background": "light"
     },
     "output_type": "display_data"
    }
   ],
   "source": [
    "# 绘 制 上 证 综 指 2011 年5月 19 日 附 近 的 K 线图\n",
    "ssec201105=ssec2011['2011-05-01':'2011-05-30']           \n",
    "candle.candlePlot(ssec201105 ,\\\n",
    "                  title=' 上 证 综 指 2011 年5 月 份 的 日 K 线图 ')"
   ]
  },
  {
   "cell_type": "code",
   "execution_count": 42,
   "metadata": {},
   "outputs": [
    {
     "data": {
      "image/png": "[encoded data removed]",
      "text/plain": [
       "<Figure size 432x288 with 1 Axes>"
      ]
     },
     "metadata": {
      "needs_background": "light"
     },
     "output_type": "display_data"
    }
   ],
   "source": [
    "# 绘 制 上 证 综 指 2011 年8月 16 日 附 近 的 K 线图\n",
    "ssec201108=ssec2011['2011-08-01':'2011-08-30']\n",
    "candle.candlePlot(ssec201108 ,\\\n",
    "                  title=' 上 证 综 指 2011 年8 月 份 的 日 K 线图 ')"
   ]
  },
  {
   "cell_type": "code",
   "execution_count": null,
   "metadata": {},
   "outputs": [],
   "source": []
  }
 ],
 "metadata": {
  "kernelspec": {
   "display_name": "Python 3",
   "language": "python",
   "name": "python3"
  },
  "language_info": {
   "codemirror_mode": {
    "name": "ipython",
    "version": 3
   },
   "file_extension": ".py",
   "mimetype": "text/x-python",
   "name": "python",
   "nbconvert_exporter": "python",
   "pygments_lexer": "ipython3",
   "version": "3.7.3"
  }
 },
 "nbformat": 4,
 "nbformat_minor": 2
}
